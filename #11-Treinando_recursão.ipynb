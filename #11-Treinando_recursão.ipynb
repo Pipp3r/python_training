{
  "nbformat": 4,
  "nbformat_minor": 0,
  "metadata": {
    "colab": {
      "name": "aula recursão.ipynb",
      "provenance": [],
      "collapsed_sections": [],
      "authorship_tag": "ABX9TyMojP14vDNEOoLsbcmPdU2a",
      "include_colab_link": true
    },
    "kernelspec": {
      "name": "python3",
      "display_name": "Python 3"
    },
    "language_info": {
      "name": "python"
    }
  },
  "cells": [
    {
      "cell_type": "markdown",
      "metadata": {
        "id": "view-in-github",
        "colab_type": "text"
      },
      "source": [
        "<a href=\"https://colab.research.google.com/github/pipp3r/python_training/blob/main/%2311-Treinando_recurs%C3%A3o.ipynb\" target=\"_parent\"><img src=\"https://colab.research.google.com/assets/colab-badge.svg\" alt=\"Open In Colab\"/></a>"
      ]
    },
    {
      "cell_type": "markdown",
      "source": [
        "super fatorial"
      ],
      "metadata": {
        "id": "IXiVm1TPmDXy"
      }
    },
    {
      "cell_type": "code",
      "execution_count": 15,
      "metadata": {
        "id": "r436I6uhkll3",
        "colab": {
          "base_uri": "https://localhost:8080/"
        },
        "outputId": "252367c5-7cd8-448a-e8bd-7333d8980a63"
      },
      "outputs": [
        {
          "output_type": "stream",
          "name": "stdout",
          "text": [
            "Digite um número inteiro: 4\n",
            "o superfatorial é: 288\n"
          ]
        }
      ],
      "source": [
        "# calcula fatorial\n",
        "\n",
        "def fatorial(n):\n",
        "  if n > 0:\n",
        "   return n * fatorial(n-1)\n",
        "  else:\n",
        "    return 1    \n",
        "\n",
        "#super fatorial\n",
        "def super_fatorial(n):\n",
        "  if n > 0:\n",
        "    return fatorial(n)* super_fatorial(n-1)\n",
        "  else:\n",
        "    return 1\n",
        "\n",
        "    \n",
        "inteiro = int(input(\"Digite um número inteiro: \"))\n",
        "print(\"o superfatorial é: %d\" %(super_fatorial(inteiro)))\n"
      ]
    },
    {
      "cell_type": "markdown",
      "source": [
        "multiplicação usando soma de recursão"
      ],
      "metadata": {
        "id": "_m-lekOIvyo9"
      }
    },
    {
      "cell_type": "code",
      "source": [
        "def multiplicação(n1, n2):\n",
        "  if n2 == 1:\n",
        "    return n1\n",
        "\n",
        "  else:\n",
        "    return n1 + multiplicação(n1, n2-1)\n",
        "\n",
        "\n",
        "\n",
        "n1 = int(input(\"Digite um número inteiro: \"))\n",
        "n2 = int(input(\"Digite outro número inteiro: \"))\n",
        "print(\"%d x %d: %d\" %(n1,n2, multiplicação(n1, n2)))"
      ],
      "metadata": {
        "id": "pjoxJWlLvy-q",
        "colab": {
          "base_uri": "https://localhost:8080/"
        },
        "outputId": "2e2cf208-2b88-4eb1-9ad6-d8bf090b7b2b"
      },
      "execution_count": 10,
      "outputs": [
        {
          "output_type": "stream",
          "name": "stdout",
          "text": [
            "Digite um número inteiro: 4\n",
            "Digite outro número inteiro: 4\n",
            "4 x 4: 16\n"
          ]
        }
      ]
    },
    {
      "cell_type": "markdown",
      "source": [
        "Soma dos primeiros Cubos"
      ],
      "metadata": {
        "id": "bKJk7u4WTimQ"
      }
    },
    {
      "cell_type": "code",
      "source": [
        "def soma_cubos(n):\n",
        "  if n > 1:\n",
        "    return n*n*n + soma_cubos(n-1)\n",
        "  else:\n",
        "    return 1\n",
        "\n",
        "\n",
        "\n",
        "inteiro = int(input(\"Digite um número inteiro: \"))\n",
        "print(\"a soma dos cubos de %d é: %d\" %(inteiro, soma_cubos(inteiro)))"
      ],
      "metadata": {
        "colab": {
          "base_uri": "https://localhost:8080/"
        },
        "id": "n44wfBVlTqDO",
        "outputId": "8b221ff0-a5b1-4fc9-9851-1ba4e25f3339"
      },
      "execution_count": 17,
      "outputs": [
        {
          "output_type": "stream",
          "name": "stdout",
          "text": [
            "Digite um número inteiro: 5\n",
            "a soma dos cubos de 5 é: 225\n"
          ]
        }
      ]
    },
    {
      "cell_type": "markdown",
      "source": [
        "imprimindo numeros em ordem crescente usando recursão"
      ],
      "metadata": {
        "id": "wqAMfs0ZdV5f"
      }
    },
    {
      "cell_type": "code",
      "source": [
        "def crescente(n, aux= 0):\n",
        "  \n",
        "  if aux == n+1:\n",
        "    return \n",
        "    \n",
        "  else:\n",
        "    print(aux, end = \" \")\n",
        "    return crescente (n, aux+1)\n",
        "\n",
        "\n",
        "inteiro = int(input(\"Digite um número inteiro: \"))\n",
        "retorno = crescente(inteiro)"
      ],
      "metadata": {
        "colab": {
          "base_uri": "https://localhost:8080/"
        },
        "id": "JO9CztjwdhMn",
        "outputId": "6f004dfb-d8de-499f-9d47-58e5eecb1676"
      },
      "execution_count": 28,
      "outputs": [
        {
          "output_type": "stream",
          "name": "stdout",
          "text": [
            "Digite um número inteiro: 7\n",
            "0 1 2 3 4 5 6 7 "
          ]
        }
      ]
    }
  ]
}